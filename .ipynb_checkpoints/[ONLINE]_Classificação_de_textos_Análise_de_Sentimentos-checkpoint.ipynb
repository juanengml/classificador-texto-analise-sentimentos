{
 "cells": [
  {
   "cell_type": "markdown",
   "metadata": {
    "id": "jd0xl83ec2Qq"
   },
   "source": [
    "# Classificação de textos - Análise de Sentimentos\n",
    "## Processamento de Linguagem Natural\n",
    "Nesta aula continuaremos trabalhando com Classificação de textos, porém agora focaremos em uma tarefa específica, chamada de **Análise de Sentimentos**. \n",
    "\n",
    "O objetivo é que ao final desta aula você:\n",
    "1. Entenda o que é a **Análise de Sentimentos**\n",
    "2. Saiba treinar um classificador supervisionado para realizar análise de sentimentos usando um corpus anotado\n",
    "3. Aprenda a utilizar a biblioteca Polyglot do Python que já possui métodos para identificar polaridade de textos em português\n",
    "4. Acesse API do Twitter para obter dados em tempo real de redes sociais\n",
    "\n",
    "\n"
   ]
  },
  {
   "cell_type": "markdown",
   "metadata": {},
   "source": [
    "**ALUNOS: JUAN MANOEL MARINHO NASCIMENTO E GUSTAVO DA SILVA ROSSI**"
   ]
  },
  {
   "cell_type": "markdown",
   "metadata": {
    "id": "YsjLryLKfG_O"
   },
   "source": [
    "### **O que é a Análise de Sentimentos?**\n",
    "\n",
    "É a interpretação e classificação de emoções relativas a um texto, sendo estas emoções explícitas declaradas no texto ou implícitas.\n",
    "\n",
    "![Análise de sentimentos. Fonte: https://monkeylearn.com/sentiment-analysis/](https://docs.google.com/uc?export=download&id=1okG1oHXPhnZiBBTtpZG4b3VdaWovCndT)\n",
    "\n",
    "É uma tarefa de PLN/Machine Learning que permite empresas identificarem os sentimentos dos consumidores em relação a produtos, marcas ou serviços, através de opiniões deixadas em redes sociais ou em canais de comunicação da empresa.\n",
    "\n",
    "\n",
    "\n",
    "\n",
    "\n",
    "\n",
    "\n",
    "\n",
    "\n",
    "\n",
    "\n",
    "\n",
    "\n",
    "\n",
    "\n",
    "\n"
   ]
  },
  {
   "cell_type": "markdown",
   "metadata": {
    "id": "evmz97QofQ_f"
   },
   "source": [
    "### **Como treinar um classificador para realizar a Análise de Sentimentos?**\n",
    "Iremos desenvolver nosso classificador, utilizando uma abordagem supervisionada, ou seja, precisaremos de dados rotulados com suas respectivas emoções.\n",
    "\n",
    "O pipeline de execução é muito similar aos exemplos de classificação realizados na última semana, o que muda efetivamente são as classes/categorias envolvidas."
   ]
  },
  {
   "cell_type": "markdown",
   "metadata": {
    "id": "Pm6WttgJUVVk"
   },
   "source": [
    "#### Dados\n",
    "Para este exemplo iremos trabalhar com uma [base de dados de notícias](https://www.aclweb.org/anthology/W15-5616.pdf), rotulada com as emoções básicas de [Ekman](https://www.tandfonline.com/doi/abs/10.1080/02699939208411068): **alegria**, **tristeza**, **raiva**, **medo**, **repugnância** e **surpresa**. Em caso de ausência de emoção, a categoria **neutro** foi aplicada.\n",
    "\n",
    "\n",
    "\n",
    "> **IMPORTANTE**: Faça o upload da base de dados para seu ambiente Google Colab ou Jupyter Notebook! Segue o [link](https://drive.google.com/file/d/12-mbbvHtnDVRTbQnhmOfnIXppbQ0hoyn/view?usp=sharing) para acesso.\n",
    "\n"
   ]
  },
  {
   "cell_type": "markdown",
   "metadata": {
    "id": "ltdhOVMyY9PW"
   },
   "source": [
    "#### Fluxo de execução\n",
    "Vamos seguir o seguinte fluxo de processamento dos dados:\n",
    "\n",
    "\n",
    "1.   Abrir o corpus\n",
    "2.   Remover as stop-words\n",
    "3.   Aplicar stemmer\n",
    "4.   Gerar o Bag of Words\n",
    "5.   Treinar o modelo SVM\n",
    "6.   Predizer/Avaliar o modelo\n",
    "\n"
   ]
  },
  {
   "cell_type": "code",
   "execution_count": 8,
   "metadata": {},
   "outputs": [
    {
     "name": "stdout",
     "output_type": "stream",
     "text": [
      "'analise-sentimentos-2000-noticias (1).txt'\n",
      " env\n",
      "'[ONLINE]_Classificação_de_textos_Análise_de_Sentimentos.ipynb'\n"
     ]
    }
   ],
   "source": [
    "!ls"
   ]
  },
  {
   "cell_type": "code",
   "execution_count": 3,
   "metadata": {
    "id": "MtuY_lI4SufL"
   },
   "outputs": [],
   "source": [
    "# Abre corpus\n",
    "f = open(\"analise-sentimentos-2000-noticias (1).txt\", \"r\", encoding=\"utf-8-sig\")\n",
    "linhas = f.readlines()\n",
    "\n",
    "corpus_textos = []\n",
    "corpus_rotulos = []\n",
    "\n",
    "# Percorre as 2000 linhas\n",
    "for linha in linhas:\n",
    "\n",
    "  # Separa texto e rótulo/categoria/emoção\n",
    "  item = linha.split(\";;\")\n",
    "\n",
    "  corpus_rotulos.append(item[0])\n",
    "  corpus_textos.append(item[1])"
   ]
  },
  {
   "cell_type": "code",
   "execution_count": 4,
   "metadata": {
    "colab": {
     "base_uri": "https://localhost:8080/"
    },
    "id": "AeR6Rr1wV1oG",
    "outputId": "2c1dd79d-2ef7-4bb3-cbf2-6f2a58dcd0a7"
   },
   "outputs": [
    {
     "data": {
      "text/plain": [
       "['irã liberta viúva condenada ao apedrejamento, diz comitê internacional. a viúva iraniana sakineh mohammadi-ashtiani, condenada à morte por apedrejamento, foi libertada juntamente com o seu filho e o seu advogado, anunciou nesta quinta-feira (9) o comitê internacional contra apedrejamento, sediado na alemanha.\\n',\n",
       " 'haiti sofre com cólera depois da passagem do furacão sandy. após a passagem do furacão sandy pelo haiti, o país vive as dificuldades da reconstrução, além de problemas causados pela contaminação da bactéria que causa o cólera.\\n',\n",
       " 'mulher acorda e encontra crocodilo de 3 m e 27 ovos no jardim de casa. especialistas capturaram e transferiram animal para local adequado.\\n',\n",
       " 'enchentes causam a morte de 4 pessoas em al: vítimas são mãe, filho, idosa de 100 anos e adolescente. defesa civil da capital já registrou mais de 30 ocorrências.\\n',\n",
       " 'sem detalhes do que será discutido, revisão do plano diretor começa na segunda (17). dez oficinas, 19 audiências públicas e canal interativo serão os meios de participação popular; ippuc pretende enviar plano revisado à câmara até o início de dezembro\\n']"
      ]
     },
     "execution_count": 4,
     "metadata": {},
     "output_type": "execute_result"
    }
   ],
   "source": [
    "# 5 primeiros textos\n",
    "corpus_textos[0:5]"
   ]
  },
  {
   "cell_type": "code",
   "execution_count": 9,
   "metadata": {
    "colab": {
     "base_uri": "https://localhost:8080/"
    },
    "id": "SAXpsd00V2vq",
    "outputId": "ffb8d75f-f5e2-44ec-c62d-3394643a9421"
   },
   "outputs": [
    {
     "data": {
      "text/plain": [
       "['alegria', 'tristeza', 'surpresa', 'tristeza', 'neutro']"
      ]
     },
     "execution_count": 9,
     "metadata": {},
     "output_type": "execute_result"
    }
   ],
   "source": [
    "# 5 primeiros rótulos\n",
    "corpus_rotulos[0:5]"
   ]
  },
  {
   "cell_type": "markdown",
   "metadata": {
    "id": "0YkBFj5KSumX"
   },
   "source": [
    "Em nossos exemplos de classificação anteriores, separamos parte do banco de dados para **TREINAMENTO** e outra parte para **TESTE**, nesse tipo de avaliação que chamamos de **hold-out**.\n",
    "\n",
    "Existem outras formas de realizar a avaliação, inclusive mais indicadas de acordo com a situação, mas isto não está no escopo de nossa disciplina, caso queira saber mais métodos de avaliação como o **cross-validation**, leia [este post](https://medium.com/@eijaz/holdout-vs-cross-validation-in-machine-learning-7637112d3f8f)."
   ]
  },
  {
   "cell_type": "code",
   "execution_count": 11,
   "metadata": {},
   "outputs": [
    {
     "name": "stdout",
     "output_type": "stream",
     "text": [
      "Collecting scikit-learn\n",
      "  Downloading scikit_learn-1.0.2-cp38-cp38-manylinux_2_17_x86_64.manylinux2014_x86_64.whl (26.7 MB)\n",
      "\u001b[2K     \u001b[38;2;114;156;31m━━━━━━━━━━━━━━━━━━━━━━━━━━━━━━━━━━━━━━━━\u001b[0m \u001b[32m26.7/26.7 MB\u001b[0m \u001b[31m24.5 MB/s\u001b[0m eta \u001b[36m0:00:00\u001b[0mm eta \u001b[36m0:00:01\u001b[0m[36m0:00:01\u001b[0m\n",
      "\u001b[?25hCollecting joblib>=0.11\n",
      "  Downloading joblib-1.1.0-py2.py3-none-any.whl (306 kB)\n",
      "\u001b[2K     \u001b[38;2;114;156;31m━━━━━━━━━━━━━━━━━━━━━━━━━━━━━━━━━━━━━━\u001b[0m \u001b[32m307.0/307.0 KB\u001b[0m \u001b[31m44.7 MB/s\u001b[0m eta \u001b[36m0:00:00\u001b[0m\n",
      "\u001b[?25hCollecting scipy>=1.1.0\n",
      "  Downloading scipy-1.8.0-cp38-cp38-manylinux_2_17_x86_64.manylinux2014_x86_64.whl (41.6 MB)\n",
      "\u001b[2K     \u001b[38;2;114;156;31m━━━━━━━━━━━━━━━━━━━━━━━━━━━━━━━━━━━━━━━━\u001b[0m \u001b[32m41.6/41.6 MB\u001b[0m \u001b[31m17.3 MB/s\u001b[0m eta \u001b[36m0:00:00\u001b[0mm eta \u001b[36m0:00:01\u001b[0m[36m0:00:01\u001b[0m\n",
      "\u001b[?25hCollecting numpy>=1.14.6\n",
      "  Downloading numpy-1.22.3-cp38-cp38-manylinux_2_17_x86_64.manylinux2014_x86_64.whl (16.8 MB)\n",
      "\u001b[2K     \u001b[38;2;114;156;31m━━━━━━━━━━━━━━━━━━━━━━━━━━━━━━━━━━━━━━━━\u001b[0m \u001b[32m16.8/16.8 MB\u001b[0m \u001b[31m28.0 MB/s\u001b[0m eta \u001b[36m0:00:00\u001b[0mm eta \u001b[36m0:00:01\u001b[0m[36m0:00:01\u001b[0m\n",
      "\u001b[?25hCollecting threadpoolctl>=2.0.0\n",
      "  Downloading threadpoolctl-3.1.0-py3-none-any.whl (14 kB)\n",
      "Installing collected packages: threadpoolctl, numpy, joblib, scipy, scikit-learn\n",
      "Successfully installed joblib-1.1.0 numpy-1.22.3 scikit-learn-1.0.2 scipy-1.8.0 threadpoolctl-3.1.0\n"
     ]
    }
   ],
   "source": [
    "!pip install -U scikit-learn"
   ]
  },
  {
   "cell_type": "code",
   "execution_count": 12,
   "metadata": {
    "id": "xMh3t4S-k5iN"
   },
   "outputs": [],
   "source": [
    "from sklearn.model_selection import train_test_split\n",
    "\n",
    "# O próprio sklearn tem um método para dividir a base de dados em treinamento e teste\n",
    "# Neste caso estamos deixando 90% para treinamento e 10% para testes\n",
    "corpus_treinamento, corpus_teste, rotulos_treinamento, rotulos_teste = train_test_split(corpus_textos, corpus_rotulos, test_size=0.10, random_state=42)"
   ]
  },
  {
   "cell_type": "code",
   "execution_count": 13,
   "metadata": {
    "colab": {
     "base_uri": "https://localhost:8080/"
    },
    "id": "DlOXBwE9l1DQ",
    "outputId": "6426cd99-ac57-49f3-ff50-1d8ec697763e"
   },
   "outputs": [
    {
     "data": {
      "text/plain": [
       "1800"
      ]
     },
     "execution_count": 13,
     "metadata": {},
     "output_type": "execute_result"
    }
   ],
   "source": [
    "len(corpus_treinamento)"
   ]
  },
  {
   "cell_type": "code",
   "execution_count": 14,
   "metadata": {
    "colab": {
     "base_uri": "https://localhost:8080/"
    },
    "id": "PNkXDsCzl3CK",
    "outputId": "0d5912e0-08bd-4977-f9f0-32981408d693"
   },
   "outputs": [
    {
     "data": {
      "text/plain": [
       "200"
      ]
     },
     "execution_count": 14,
     "metadata": {},
     "output_type": "execute_result"
    }
   ],
   "source": [
    "len(corpus_teste)"
   ]
  },
  {
   "cell_type": "code",
   "execution_count": 15,
   "metadata": {
    "colab": {
     "base_uri": "https://localhost:8080/"
    },
    "id": "0k8IhkJhl3F8",
    "outputId": "bfeccb0a-3cdf-4009-cb52-d50878e1bb6e"
   },
   "outputs": [
    {
     "data": {
      "text/plain": [
       "1800"
      ]
     },
     "execution_count": 15,
     "metadata": {},
     "output_type": "execute_result"
    }
   ],
   "source": [
    "len(rotulos_treinamento)"
   ]
  },
  {
   "cell_type": "code",
   "execution_count": 16,
   "metadata": {
    "colab": {
     "base_uri": "https://localhost:8080/"
    },
    "id": "Z5jSA7_Ql3Jo",
    "outputId": "bc7648ef-472b-4eec-c01d-7b9a2702dc4c"
   },
   "outputs": [
    {
     "data": {
      "text/plain": [
       "200"
      ]
     },
     "execution_count": 16,
     "metadata": {},
     "output_type": "execute_result"
    }
   ],
   "source": [
    "len(rotulos_teste)"
   ]
  },
  {
   "cell_type": "code",
   "execution_count": 18,
   "metadata": {},
   "outputs": [
    {
     "name": "stdout",
     "output_type": "stream",
     "text": [
      "Collecting nltk\n",
      "  Downloading nltk-3.7-py3-none-any.whl (1.5 MB)\n",
      "\u001b[2K     \u001b[38;2;114;156;31m━━━━━━━━━━━━━━━━━━━━━━━━━━━━━━━━━━━━━━━━\u001b[0m \u001b[32m1.5/1.5 MB\u001b[0m \u001b[31m12.4 MB/s\u001b[0m eta \u001b[36m0:00:00\u001b[0mm eta \u001b[36m0:00:01\u001b[0m:01\u001b[0m:01\u001b[0m\n",
      "\u001b[?25hCollecting tqdm\n",
      "  Downloading tqdm-4.64.0-py2.py3-none-any.whl (78 kB)\n",
      "\u001b[2K     \u001b[38;2;114;156;31m━━━━━━━━━━━━━━━━━━━━━━━━━━━━━━━━━━━━━━━━\u001b[0m \u001b[32m78.4/78.4 KB\u001b[0m \u001b[31m20.4 MB/s\u001b[0m eta \u001b[36m0:00:00\u001b[0m\n",
      "\u001b[?25hCollecting click\n",
      "  Downloading click-8.1.2-py3-none-any.whl (96 kB)\n",
      "\u001b[2K     \u001b[38;2;114;156;31m━━━━━━━━━━━━━━━━━━━━━━━━━━━━━━━━━━━━━━━━\u001b[0m \u001b[32m96.6/96.6 KB\u001b[0m \u001b[31m21.3 MB/s\u001b[0m eta \u001b[36m0:00:00\u001b[0m\n",
      "\u001b[?25hRequirement already satisfied: joblib in ./env/lib/python3.8/site-packages (from nltk) (1.1.0)\n",
      "Collecting regex>=2021.8.3\n",
      "  Downloading regex-2022.3.15-cp38-cp38-manylinux_2_17_x86_64.manylinux2014_x86_64.whl (764 kB)\n",
      "\u001b[2K     \u001b[38;2;114;156;31m━━━━━━━━━━━━━━━━━━━━━━━━━━━━━━━━━━━━━━\u001b[0m \u001b[32m764.9/764.9 KB\u001b[0m \u001b[31m12.7 MB/s\u001b[0m eta \u001b[36m0:00:00\u001b[0m31m71.6 MB/s\u001b[0m eta \u001b[36m0:00:01\u001b[0m\n",
      "\u001b[?25hInstalling collected packages: tqdm, regex, click, nltk\n",
      "Successfully installed click-8.1.2 nltk-3.7 regex-2022.3.15 tqdm-4.64.0\n"
     ]
    }
   ],
   "source": [
    "!pip install nltk"
   ]
  },
  {
   "cell_type": "markdown",
   "metadata": {
    "id": "AbSXzp5fvFk3"
   },
   "source": [
    "Vamos deixar preparada uma função para pré-processar os textos, utilizando uma lista de stop-words com novos itens, o stemming e normalização dos textos."
   ]
  },
  {
   "cell_type": "code",
   "execution_count": 19,
   "metadata": {
    "colab": {
     "base_uri": "https://localhost:8080/"
    },
    "id": "A5CAMkykvRUk",
    "outputId": "707983e1-c8f3-4203-9490-64168e790ec7"
   },
   "outputs": [
    {
     "name": "stderr",
     "output_type": "stream",
     "text": [
      "[nltk_data] Downloading package stopwords to /home/juan-\n",
      "[nltk_data]     nascimento/nltk_data...\n",
      "[nltk_data]   Unzipping corpora/stopwords.zip.\n",
      "[nltk_data] Downloading package rslp to /home/juan-\n",
      "[nltk_data]     nascimento/nltk_data...\n",
      "[nltk_data]   Unzipping stemmers/rslp.zip.\n",
      "[nltk_data] Downloading package punkt to /home/juan-\n",
      "[nltk_data]     nascimento/nltk_data...\n",
      "[nltk_data]   Unzipping tokenizers/punkt.zip.\n"
     ]
    }
   ],
   "source": [
    "import nltk\n",
    "from nltk import tokenize\n",
    "nltk.download('stopwords')\n",
    "nltk.download('rslp')\n",
    "nltk.download('punkt')\n",
    "\n",
    "stopwords = nltk.corpus.stopwords.words('portuguese') #carrega stopwords da lingua portuguesa disponíveis no NLTK\n",
    "stopwords += (',','.','(',')','\"',\"'\",'´','`','!','$','%','&','...','-',':',';','?','``','\\'\\'') #acrescenta simbolos\n",
    "stopwords += ('a','e','i','o','u','A','E','I','O','U') #acrescenta também vogais\n",
    "\n",
    "stemmer = nltk.stem.RSLPStemmer()\n",
    "\n",
    "def my_preprocessor(text):\n",
    "    \n",
    "    # Normaliza para minúsculas\n",
    "    text=text.lower() \n",
    "    \n",
    "    # Tokeniza\n",
    "    words = tokenize.word_tokenize(text, language='portuguese')\n",
    "    # Remove stop-words\n",
    "    words_no_stopwords = [word for word in words if not word in stopwords]\n",
    "    # Aplica stemming\n",
    "    stemmed_words=[stemmer.stem(word=word) for word in words_no_stopwords]\n",
    "    return ' '.join(stemmed_words)"
   ]
  },
  {
   "cell_type": "markdown",
   "metadata": {
    "id": "6HnBLMGtmxNm"
   },
   "source": [
    "Agora vamos extrair os atributos do texto (gerar a representação vetorial - bag of words) e criar nosso pipeline de classificação usando o classificador SVM."
   ]
  },
  {
   "cell_type": "code",
   "execution_count": 20,
   "metadata": {
    "id": "20ZDBuVTmxbU"
   },
   "outputs": [],
   "source": [
    "from sklearn.pipeline import Pipeline\n",
    "from sklearn.svm import SVC\n",
    "from sklearn.feature_extraction.text import CountVectorizer\n",
    "\n",
    "# Primeiro aplica o BoW, depois envia dados ao classificador SVM\n",
    "# (SEM retirada de stop-words e stemming)\n",
    "sent_clf = Pipeline([('vect', CountVectorizer()),('clf', SVC(kernel='linear', C=1))])\n",
    "\n",
    "# Depois de executar uma vez, verifique os resultados e compare-os depois de descomentar a linha abaixo, onde retiramos as stop-words e aplicamos stemming\n",
    "# (COM retirada de stop-words e stemming)\n",
    "#sent_clf = Pipeline([('vect', CountVectorizer(preprocessor = my_preprocessor)),('clf', SVC(kernel='linear', C=1))])"
   ]
  },
  {
   "cell_type": "code",
   "execution_count": 21,
   "metadata": {
    "id": "OcUiVr1exebT"
   },
   "outputs": [],
   "source": [
    "# Inicia treinamento \n",
    "sent_clf = sent_clf.fit(corpus_treinamento, rotulos_treinamento)"
   ]
  },
  {
   "cell_type": "markdown",
   "metadata": {
    "id": "UJ6nzypDoHTX"
   },
   "source": [
    "Já temos nosso modelo treinado! Agora vamos predizer a base de teste e avaliar os resultados."
   ]
  },
  {
   "cell_type": "code",
   "execution_count": 22,
   "metadata": {
    "id": "dNSFAIiYoHdD"
   },
   "outputs": [],
   "source": [
    "# Prediz base de teste\n",
    "rotulos_preditos = sent_clf.predict(corpus_teste)"
   ]
  },
  {
   "cell_type": "code",
   "execution_count": 81,
   "metadata": {
    "colab": {
     "base_uri": "https://localhost:8080/"
    },
    "id": "6FxFWGaBoZ_w",
    "outputId": "6023d916-1bbb-4a6c-d23c-eeeadad8af86"
   },
   "outputs": [
    {
     "name": "stdout",
     "output_type": "stream",
     "text": [
      "              precision    recall  f1-score   support\n",
      "\n",
      "     alegria       0.00      0.00      0.00        19\n",
      "    desgosto       0.44      0.26      0.33        27\n",
      "        medo       0.32      0.39      0.35        18\n",
      "      neutro       0.52      0.73      0.61        51\n",
      "       raiva       0.29      0.29      0.29         7\n",
      "    surpresa       0.42      0.47      0.44        32\n",
      "    tristeza       0.66      0.59      0.62        46\n",
      "\n",
      "    accuracy                           0.48       200\n",
      "   macro avg       0.38      0.39      0.38       200\n",
      "weighted avg       0.45      0.47      0.45       200\n",
      "\n"
     ]
    }
   ],
   "source": [
    "from sklearn.metrics import classification_report\n",
    "\n",
    "# Mostra relatório completo de avaliação\n",
    "print(classification_report(rotulos_teste, rotulos_preditos))"
   ]
  },
  {
   "cell_type": "code",
   "execution_count": 86,
   "metadata": {},
   "outputs": [
    {
     "data": {
      "text/html": [
       "<div>\n",
       "<style scoped>\n",
       "    .dataframe tbody tr th:only-of-type {\n",
       "        vertical-align: middle;\n",
       "    }\n",
       "\n",
       "    .dataframe tbody tr th {\n",
       "        vertical-align: top;\n",
       "    }\n",
       "\n",
       "    .dataframe thead th {\n",
       "        text-align: right;\n",
       "    }\n",
       "</style>\n",
       "<table border=\"1\" class=\"dataframe\">\n",
       "  <thead>\n",
       "    <tr style=\"text-align: right;\">\n",
       "      <th></th>\n",
       "      <th>precision</th>\n",
       "      <th>recall</th>\n",
       "      <th>f1-score</th>\n",
       "      <th>support</th>\n",
       "    </tr>\n",
       "  </thead>\n",
       "  <tbody>\n",
       "    <tr>\n",
       "      <th>alegria</th>\n",
       "      <td>0.000000</td>\n",
       "      <td>0.000000</td>\n",
       "      <td>0.000000</td>\n",
       "      <td>19.000</td>\n",
       "    </tr>\n",
       "    <tr>\n",
       "      <th>desgosto</th>\n",
       "      <td>0.437500</td>\n",
       "      <td>0.259259</td>\n",
       "      <td>0.325581</td>\n",
       "      <td>27.000</td>\n",
       "    </tr>\n",
       "    <tr>\n",
       "      <th>medo</th>\n",
       "      <td>0.318182</td>\n",
       "      <td>0.388889</td>\n",
       "      <td>0.350000</td>\n",
       "      <td>18.000</td>\n",
       "    </tr>\n",
       "    <tr>\n",
       "      <th>neutro</th>\n",
       "      <td>0.521127</td>\n",
       "      <td>0.725490</td>\n",
       "      <td>0.606557</td>\n",
       "      <td>51.000</td>\n",
       "    </tr>\n",
       "    <tr>\n",
       "      <th>raiva</th>\n",
       "      <td>0.285714</td>\n",
       "      <td>0.285714</td>\n",
       "      <td>0.285714</td>\n",
       "      <td>7.000</td>\n",
       "    </tr>\n",
       "    <tr>\n",
       "      <th>surpresa</th>\n",
       "      <td>0.416667</td>\n",
       "      <td>0.468750</td>\n",
       "      <td>0.441176</td>\n",
       "      <td>32.000</td>\n",
       "    </tr>\n",
       "    <tr>\n",
       "      <th>tristeza</th>\n",
       "      <td>0.658537</td>\n",
       "      <td>0.586957</td>\n",
       "      <td>0.620690</td>\n",
       "      <td>46.000</td>\n",
       "    </tr>\n",
       "    <tr>\n",
       "      <th>accuracy</th>\n",
       "      <td>0.475000</td>\n",
       "      <td>0.475000</td>\n",
       "      <td>0.475000</td>\n",
       "      <td>0.475</td>\n",
       "    </tr>\n",
       "    <tr>\n",
       "      <th>macro avg</th>\n",
       "      <td>0.376818</td>\n",
       "      <td>0.387866</td>\n",
       "      <td>0.375674</td>\n",
       "      <td>200.000</td>\n",
       "    </tr>\n",
       "    <tr>\n",
       "      <th>weighted avg</th>\n",
       "      <td>0.448716</td>\n",
       "      <td>0.475000</td>\n",
       "      <td>0.453472</td>\n",
       "      <td>200.000</td>\n",
       "    </tr>\n",
       "  </tbody>\n",
       "</table>\n",
       "</div>"
      ],
      "text/plain": [
       "              precision    recall  f1-score  support\n",
       "alegria        0.000000  0.000000  0.000000   19.000\n",
       "desgosto       0.437500  0.259259  0.325581   27.000\n",
       "medo           0.318182  0.388889  0.350000   18.000\n",
       "neutro         0.521127  0.725490  0.606557   51.000\n",
       "raiva          0.285714  0.285714  0.285714    7.000\n",
       "surpresa       0.416667  0.468750  0.441176   32.000\n",
       "tristeza       0.658537  0.586957  0.620690   46.000\n",
       "accuracy       0.475000  0.475000  0.475000    0.475\n",
       "macro avg      0.376818  0.387866  0.375674  200.000\n",
       "weighted avg   0.448716  0.475000  0.453472  200.000"
      ]
     },
     "execution_count": 86,
     "metadata": {},
     "output_type": "execute_result"
    }
   ],
   "source": [
    "pd.DataFrame(classification_report(rotulos_teste, rotulos_preditos,output_dict=True)).T"
   ]
  },
  {
   "cell_type": "code",
   "execution_count": 27,
   "metadata": {},
   "outputs": [
    {
     "name": "stdout",
     "output_type": "stream",
     "text": [
      "Requirement already satisfied: matplotlib in ./env/lib/python3.8/site-packages (3.5.1)\n",
      "Collecting seaborn\n",
      "  Downloading seaborn-0.11.2-py3-none-any.whl (292 kB)\n",
      "\u001b[2K     \u001b[38;2;114;156;31m━━━━━━━━━━━━━━━━━━━━━━━━━━━━━━━━━━━━━━━\u001b[0m \u001b[32m292.8/292.8 KB\u001b[0m \u001b[31m8.8 MB/s\u001b[0m eta \u001b[36m0:00:00\u001b[0m\n",
      "\u001b[?25hRequirement already satisfied: packaging>=20.0 in ./env/lib/python3.8/site-packages (from matplotlib) (21.3)\n",
      "Requirement already satisfied: kiwisolver>=1.0.1 in ./env/lib/python3.8/site-packages (from matplotlib) (1.4.2)\n",
      "Requirement already satisfied: pyparsing>=2.2.1 in ./env/lib/python3.8/site-packages (from matplotlib) (3.0.8)\n",
      "Requirement already satisfied: pillow>=6.2.0 in ./env/lib/python3.8/site-packages (from matplotlib) (9.1.0)\n",
      "Requirement already satisfied: cycler>=0.10 in ./env/lib/python3.8/site-packages (from matplotlib) (0.11.0)\n",
      "Requirement already satisfied: numpy>=1.17 in ./env/lib/python3.8/site-packages (from matplotlib) (1.22.3)\n",
      "Requirement already satisfied: fonttools>=4.22.0 in ./env/lib/python3.8/site-packages (from matplotlib) (4.32.0)\n",
      "Requirement already satisfied: python-dateutil>=2.7 in ./env/lib/python3.8/site-packages (from matplotlib) (2.8.2)\n",
      "Collecting pandas>=0.23\n",
      "  Downloading pandas-1.4.2-cp38-cp38-manylinux_2_17_x86_64.manylinux2014_x86_64.whl (11.7 MB)\n",
      "\u001b[2K     \u001b[38;2;114;156;31m━━━━━━━━━━━━━━━━━━━━━━━━━━━━━━━━━━━━━━━━\u001b[0m \u001b[32m11.7/11.7 MB\u001b[0m \u001b[31m24.9 MB/s\u001b[0m eta \u001b[36m0:00:00\u001b[0mm eta \u001b[36m0:00:01\u001b[0m[36m0:00:01\u001b[0m\n",
      "\u001b[?25hRequirement already satisfied: scipy>=1.0 in ./env/lib/python3.8/site-packages (from seaborn) (1.8.0)\n",
      "Requirement already satisfied: pytz>=2020.1 in ./env/lib/python3.8/site-packages (from pandas>=0.23->seaborn) (2022.1)\n",
      "Requirement already satisfied: six>=1.5 in ./env/lib/python3.8/site-packages (from python-dateutil>=2.7->matplotlib) (1.16.0)\n",
      "Installing collected packages: pandas, seaborn\n",
      "Successfully installed pandas-1.4.2 seaborn-0.11.2\n"
     ]
    }
   ],
   "source": [
    "!pip install matplotlib seaborn"
   ]
  },
  {
   "cell_type": "code",
   "execution_count": 28,
   "metadata": {
    "colab": {
     "base_uri": "https://localhost:8080/",
     "height": 611
    },
    "id": "qRQDI8b9oaFe",
    "outputId": "b2deaad5-c2a1-4258-bbd6-53a07d5d4c38"
   },
   "outputs": [
    {
     "data": {
      "image/png": "[encoded data removed]",
      "text/plain": [
       "<Figure size 720x720 with 1 Axes>"
      ]
     },
     "metadata": {},
     "output_type": "display_data"
    }
   ],
   "source": [
    "from sklearn.metrics import confusion_matrix\n",
    "\n",
    "# Podemos imprimir a matriz de confusão para tentar entender melhor os resultados\n",
    "mat = confusion_matrix(rotulos_teste, rotulos_preditos)\n",
    "\n",
    "%matplotlib inline\n",
    "import matplotlib.pyplot as plt\n",
    "import seaborn as sns; sns.set()\n",
    "\n",
    "rotulos_nomes = ['alegria', 'desgosto', 'medo', 'neutro', 'raiva', 'surpresa', 'tristeza']\n",
    "\n",
    "fig, ax = plt.subplots(figsize=(10,10)) \n",
    "sns.heatmap(mat.T, square=True, annot=True, fmt='d', cbar=False, xticklabels=rotulos_nomes, yticklabels=rotulos_nomes )\n",
    "plt.xlabel('Categoria verdadeira')\n",
    "plt.ylabel('Categoria predita');"
   ]
  },
  {
   "cell_type": "markdown",
   "metadata": {
    "id": "VJGxMMVTz6lJ"
   },
   "source": [
    "> **CONCLUSÃO**: Apesar de verificarmos melhoria ao pré-processarmos o texto, os resultados ainda são regulares."
   ]
  },
  {
   "cell_type": "markdown",
   "metadata": {
    "id": "hdC8Pnkc1JsW"
   },
   "source": [
    "#### **Atividade Somativa 2 - Como podemos tentar melhorar os resultados?**\n",
    "\n",
    "**1) Redução da granularidade dos sentimentos**\n",
    "Como podemos ver na matriz de confusão o classificador tem vários pontos de erro, em todas emoções. E se modificarmos o corpus para ao invés de 7 emoções, trabalhar com as 3 clássicas (positivo, neutro, negativo)?\n",
    "\n",
    "Vamos então adotar a seguinte sistemática de atualização da base de dados:\n",
    "\n",
    "A classe \"**positivo**\" será obtida utilizando-se as instâncias da base original rotuladas como \"alegria\". \n",
    "\n",
    "A classe \"**negativo**\" será obtida utilizando-se as instâncias rotuladas como \"raiva\", \"medo\", \"desgosto\" e \"tristeza\". \n",
    "\n",
    "Já a classe \"**neutro**\", utilizará as instâncias da base original rotuladas como \"neutro\". \n",
    "\n",
    "As instâncias rotuladas como \"surpresa\" não serão utilizadas.\n",
    "\n",
    "Crie um novo arquivo para esta base de dados atualizada, carregue-o em nosso notebook e compare os resultados.\n",
    "\n",
    "\n"
   ]
  },
  {
   "cell_type": "code",
   "execution_count": 77,
   "metadata": {},
   "outputs": [],
   "source": [
    "import pandas as pd \n"
   ]
  },
  {
   "cell_type": "code",
   "execution_count": 78,
   "metadata": {},
   "outputs": [],
   "source": [
    "label_train = \" \".join(rotulos_treinamento).replace(\"alegria\",\"positivo\").replace(\"raiva\",\"negativo\").replace(\"medo\",\"negativo\").replace(\"desgosto\",\"negativo\").replace(\"tristeza\",\"negativo\").split()"
   ]
  },
  {
   "cell_type": "code",
   "execution_count": 79,
   "metadata": {},
   "outputs": [],
   "source": [
    "data = list()\n",
    "for k,r,v in zip(label_train,rotulos_treinamento, corpus_treinamento):\n",
    "    value = {\"label\":k,\"label_original\":r,\"corpus\":v}\n",
    "    data.append(value)\n",
    "\n",
    "df = pd.DataFrame(data)"
   ]
  },
  {
   "cell_type": "code",
   "execution_count": 80,
   "metadata": {},
   "outputs": [],
   "source": [
    "df[['label','corpus']].query(\"label != 'surpresa'\").to_csv(\"base_clean.csv\",index=False)"
   ]
  },
  {
   "cell_type": "markdown",
   "metadata": {},
   "source": [
    "##  Resultado modelo treinado com Corpus Apenas com Positivo e Negativo e Neutro "
   ]
  },
  {
   "cell_type": "code",
   "execution_count": 3,
   "metadata": {},
   "outputs": [
    {
     "name": "stdout",
     "output_type": "stream",
     "text": [
      "Matriz de Confução :  output_2022-04-16 21:16:48.397139.png\n",
      "              precision    recall  f1-score     support\n",
      "negativo       0.798165  0.896907  0.844660   97.000000\n",
      "neutro         0.659091  0.659091  0.659091   44.000000\n",
      "positivo       0.200000  0.058824  0.090909   17.000000\n",
      "accuracy       0.740506  0.740506  0.740506    0.740506\n",
      "macro avg      0.552419  0.538274  0.531553  158.000000\n",
      "weighted avg   0.695076  0.740506  0.711883  158.000000\n",
      "/home/juan-nascimento/Modelos/PNL/env/lib/python3.8/site-packages/_distutils_hack/__init__.py:30: UserWarning: Setuptools is replacing distutils.\n",
      "  warnings.warn(\"Setuptools is replacing distutils.\")\n"
     ]
    }
   ],
   "source": [
    "!python train.py "
   ]
  },
  {
   "cell_type": "markdown",
   "metadata": {},
   "source": [
    "\n",
    "**2) Configuração dos parâmetros de extração de atributos e do classificador**\n",
    "Altere a configuração de pelo menos um atributo gerado pela vetorização das palavras (i.e., CountVectorizer) e também pelo classificador utilizado."
   ]
  },
  {
   "cell_type": "code",
   "execution_count": 5,
   "metadata": {},
   "outputs": [
    {
     "name": "stdout",
     "output_type": "stream",
     "text": [
      "from sklearn.pipeline import Pipeline\n",
      "    #sent_clf = Pipeline([('vect', CountVectorizer()),('clf', SVC(kernel='linear', C=1))])\n",
      "    sent_clf = Pipeline([('vect', CountVectorizer(lowercase=False)),('clf', SVC(kernel='poly', C=1))])\n",
      "    #sent_clf = Pipeline([('vect', CountVectorizer()),(\"tfidf\", TfidfTransformer()),(\"clf\", SGDClassifier())])\n"
     ]
    }
   ],
   "source": [
    "!cat train.py | grep Pipeline"
   ]
  },
  {
   "cell_type": "code",
   "execution_count": 6,
   "metadata": {},
   "outputs": [
    {
     "name": "stdout",
     "output_type": "stream",
     "text": [
      "/home/juan-nascimento/Modelos/PNL/env/lib/python3.8/site-packages/sklearn/metrics/_classification.py:1318: UndefinedMetricWarning: Precision and F-score are ill-defined and being set to 0.0 in labels with no predicted samples. Use `zero_division` parameter to control this behavior.\n",
      "  _warn_prf(average, modifier, msg_start, len(result))\n",
      "/home/juan-nascimento/Modelos/PNL/env/lib/python3.8/site-packages/sklearn/metrics/_classification.py:1318: UndefinedMetricWarning: Precision and F-score are ill-defined and being set to 0.0 in labels with no predicted samples. Use `zero_division` parameter to control this behavior.\n",
      "  _warn_prf(average, modifier, msg_start, len(result))\n",
      "/home/juan-nascimento/Modelos/PNL/env/lib/python3.8/site-packages/sklearn/metrics/_classification.py:1318: UndefinedMetricWarning: Precision and F-score are ill-defined and being set to 0.0 in labels with no predicted samples. Use `zero_division` parameter to control this behavior.\n",
      "  _warn_prf(average, modifier, msg_start, len(result))\n",
      "Matriz de Confução :  output_2022-04-16 21:17:46.871715.png\n",
      "              precision    recall  f1-score     support\n",
      "negativo       0.620915  0.979381  0.760000   97.000000\n",
      "neutro         0.600000  0.068182  0.122449   44.000000\n",
      "positivo       0.000000  0.000000  0.000000   17.000000\n",
      "accuracy       0.620253  0.620253  0.620253    0.620253\n",
      "macro avg      0.406972  0.349188  0.294150  158.000000\n",
      "weighted avg   0.548283  0.620253  0.500682  158.000000\n",
      "/home/juan-nascimento/Modelos/PNL/env/lib/python3.8/site-packages/_distutils_hack/__init__.py:30: UserWarning: Setuptools is replacing distutils.\n",
      "  warnings.warn(\"Setuptools is replacing distutils.\")\n"
     ]
    }
   ],
   "source": [
    "!python train.py"
   ]
  },
  {
   "cell_type": "markdown",
   "metadata": {},
   "source": [
    "\n",
    "**3) Adicione novas etapas de extração de atributos ou de pré-processamento**\n",
    "Incorpore ao menos uma nova etapa de pré-processamento ou extração de atributos (e.g., TF-IDF) ao pipeline atual.\n",
    "\n"
   ]
  },
  {
   "cell_type": "code",
   "execution_count": 15,
   "metadata": {},
   "outputs": [
    {
     "name": "stdout",
     "output_type": "stream",
     "text": [
      "from sklearn.pipeline import Pipeline\n",
      "    #sent_clf = Pipeline([('vect', CountVectorizer()),('clf', SVC(kernel='linear', C=1))])\n",
      "    #sent_clf = Pipeline([('vect', CountVectorizer(lowercase=False)),('clf', SVC(kernel='poly', C=1))])\n",
      "    sent_clf = Pipeline([('vect', CountVectorizer(lowercase=False)),('clf', SVC(kernel='linear', C=1))])\n",
      "    #sent_clf = Pipeline([('vect', CountVectorizer()),(\"tfidf\", TfidfTransformer()),(\"clf\", SGDClassifier())])\n"
     ]
    }
   ],
   "source": [
    "!cat train.py | grep Pipe"
   ]
  },
  {
   "cell_type": "code",
   "execution_count": 16,
   "metadata": {},
   "outputs": [
    {
     "name": "stdout",
     "output_type": "stream",
     "text": [
      "Matriz de Confução :  output_2022-04-16 21:22:21.016985.png\n",
      "              precision    recall  f1-score     support\n",
      "negativo       0.798165  0.896907  0.844660   97.000000\n",
      "neutro         0.659091  0.659091  0.659091   44.000000\n",
      "positivo       0.200000  0.058824  0.090909   17.000000\n",
      "accuracy       0.740506  0.740506  0.740506    0.740506\n",
      "macro avg      0.552419  0.538274  0.531553  158.000000\n",
      "weighted avg   0.695076  0.740506  0.711883  158.000000\n",
      "/home/juan-nascimento/Modelos/PNL/env/lib/python3.8/site-packages/_distutils_hack/__init__.py:30: UserWarning: Setuptools is replacing distutils.\n",
      "  warnings.warn(\"Setuptools is replacing distutils.\")\n"
     ]
    }
   ],
   "source": [
    "!python train.py "
   ]
  },
  {
   "cell_type": "markdown",
   "metadata": {},
   "source": [
    "**4) Utilize outro classificador de texto**\n",
    "Treine ao menos um novo modelo utilizando um classificador de textos diferentes. Ele pode pertencer à biblbioteca sklearn ou qualquer outra.\n"
   ]
  },
  {
   "cell_type": "code",
   "execution_count": 17,
   "metadata": {},
   "outputs": [
    {
     "name": "stdout",
     "output_type": "stream",
     "text": [
      "from sklearn.pipeline import Pipeline\n",
      "    #sent_clf = Pipeline([('vect', CountVectorizer()),('clf', SVC(kernel='linear', C=1))])\n",
      "    #sent_clf = Pipeline([('vect', CountVectorizer(lowercase=False)),('clf', SVC(kernel='poly', C=1))])\n",
      "    #sent_clf = Pipeline([('vect', CountVectorizer(lowercase=False)),('clf', SVC(kernel='linear', C=1))])\n",
      "    sent_clf = Pipeline([('vect', CountVectorizer()),(\"tfidf\", TfidfTransformer()),(\"clf\", SGDClassifier())])\n",
      "Matriz de Confução :  output_2022-04-16 21:22:46.360891.png\n",
      "              precision    recall  f1-score     support\n",
      "negativo       0.805556  0.896907  0.848780   97.000000\n",
      "neutro         0.674419  0.659091  0.666667   44.000000\n",
      "positivo       0.428571  0.176471  0.250000   17.000000\n",
      "accuracy       0.753165  0.753165  0.753165    0.753165\n",
      "macro avg      0.636182  0.577490  0.588482  158.000000\n",
      "weighted avg   0.728475  0.753165  0.733639  158.000000\n",
      "/home/juan-nascimento/Modelos/PNL/env/lib/python3.8/site-packages/_distutils_hack/__init__.py:30: UserWarning: Setuptools is replacing distutils.\n",
      "  warnings.warn(\"Setuptools is replacing distutils.\")\n"
     ]
    }
   ],
   "source": [
    "!cat train.py | grep Pipe\n",
    "!python train.py "
   ]
  },
  {
   "cell_type": "markdown",
   "metadata": {},
   "source": [
    "## Codigo Fonte Final do Projeto \n",
    "\n",
    "Em cada etapa do projeto, pensei em entender melhor os processos de treinamento do modelo e geração do pipeline, percebi oque por mais um tip indice no pipeline pode gerar interferancia no processo de treinamento do modelo, percebi tambem pelo mlflow as metricas versionadas que o primeiro modelo deu bem certo e parte da estrutira funciona bem, pensei em testar outras formas de ajuste de hiperparametros, dessa forma é bem possivel otimizar o modelo e gerar bons resultados.\n",
    "\n",
    "Ao observar o comportamento da matrix de confusão podemos ver claramente o comportamento de cada ajuste em cadas parte do pipeline e entender de forma clara os melhores modelos. "
   ]
  },
  {
   "cell_type": "code",
   "execution_count": 25,
   "metadata": {},
   "outputs": [],
   "source": [
    "from PIL import Image\n",
    "pil_im = Image.open('output_2022-04-16 21:16:48.397139.png')\n",
    "\n",
    "images = ['output_2022-04-16 21:16:48.397139.png',\n",
    "'output_2022-04-16 21:22:21.016985.png',\n",
    "'output_2022-04-16 21:22:46.360891.png']\n",
    "\n",
    "images = [Image.open(img) for img in images]"
   ]
  },
  {
   "cell_type": "code",
   "execution_count": 26,
   "metadata": {},
   "outputs": [],
   "source": [
    "def image_grid(imgs, rows, cols):\n",
    "    assert len(imgs) == rows*cols\n",
    "\n",
    "    w, h = imgs[0].size\n",
    "    grid = Image.new('RGB', size=(cols*w, rows*h))\n",
    "    grid_w, grid_h = grid.size\n",
    "    \n",
    "    for i, img in enumerate(imgs):\n",
    "        grid.paste(img, box=(i%cols*w, i//cols*h))\n",
    "    return grid\n",
    "\n",
    "grid = image_grid(images, rows=1, cols=3)\n"
   ]
  },
  {
   "cell_type": "code",
   "execution_count": 27,
   "metadata": {},
   "outputs": [
    {
     "data": {
      "image/png": "[encoded data removed]",
      "text/plain": [
       "<PIL.Image.Image image mode=RGB size=3000x1000>"
      ]
     },
     "execution_count": 27,
     "metadata": {},
     "output_type": "execute_result"
    }
   ],
   "source": [
    "grid"
   ]
  },
  {
   "cell_type": "code",
   "execution_count": 28,
   "metadata": {},
   "outputs": [
    {
     "name": "stdout",
     "output_type": "stream",
     "text": [
      "import pandas as pd \n",
      "from sklearn.pipeline import Pipeline\n",
      "from sklearn.svm import SVC\n",
      "from sklearn.linear_model import SGDClassifier\n",
      "from sklearn.feature_extraction.text import CountVectorizer, TfidfTransformer\n",
      "from sklearn.metrics import classification_report\n",
      "from sklearn.model_selection import train_test_split\n",
      "from sklearn.metrics import confusion_matrix\n",
      "import matplotlib.pyplot as plt\n",
      "import seaborn as sns; sns.set()\n",
      "import mlflow \n",
      "\n",
      "from datetime import datetime as dt \n",
      "\n",
      "mlflow.set_tracking_uri(\"http://192.168.15.77:8080\")\n",
      "mlflow.set_experiment(\"clf-atp-pucpr\")\n",
      "\n",
      "def load_data():\n",
      "    df = pd.read_csv(\"base_clean.csv\")\n",
      "    label, corpus = df['label'].tolist(),df['corpus'].tolist()\n",
      "    corpus_treinamento, corpus_teste, rotulos_treinamento, rotulos_teste = train_test_split(corpus, label, test_size=0.10, random_state=42)\n",
      "    return corpus_treinamento, corpus_teste, rotulos_treinamento, rotulos_teste\n",
      "    \n",
      "\n",
      "def train(corpus_treinamento, rotulos_treinamento):\n",
      "    #sent_clf = Pipeline([('vect', CountVectorizer()),('clf', SVC(kernel='linear', C=1))])\n",
      "    #sent_clf = Pipeline([('vect', CountVectorizer(lowercase=False)),('clf', SVC(kernel='poly', C=1))])\n",
      "    #sent_clf = Pipeline([('vect', CountVectorizer(lowercase=False)),('clf', SVC(kernel='linear', C=1))])\n",
      "    sent_clf = Pipeline([('vect', CountVectorizer()),(\"tfidf\", TfidfTransformer()),(\"clf\", SGDClassifier())])\n",
      "     \n",
      "    sent_clf = sent_clf.fit(corpus_treinamento, rotulos_treinamento)\n",
      "    return sent_clf\n",
      "\n",
      "def evalue_metrics(sent_clf,rotulos_teste,corpus_teste):\n",
      "    rotulos_preditos = sent_clf.predict(corpus_teste)\n",
      "    metrics = classification_report(rotulos_teste, rotulos_preditos,output_dict=True)\n",
      "    generate_matrix(rotulos_teste, rotulos_preditos)\n",
      "    \n",
      "    return metrics\n",
      "\n",
      "def generate_matrix(rotulos_teste, rotulos_preditos):\n",
      "    # Podemos imprimir a matriz de confusão para tentar entender melhor os resultados\n",
      "    mat = confusion_matrix(rotulos_teste, rotulos_preditos)\n",
      "\n",
      "    rotulos_nomes = ['positivo', 'negativo', 'neutro']\n",
      "\n",
      "    fig, ax = plt.subplots(figsize=(10,10)) \n",
      "    \n",
      "    sns.heatmap(mat.T, \n",
      "                square=True, \n",
      "                annot=True, \n",
      "                fmt='d', \n",
      "                cbar=False, \n",
      "                xticklabels=rotulos_nomes, \n",
      "                yticklabels=rotulos_nomes )\n",
      "    \n",
      "    plt.xlabel('Categoria verdadeira')\n",
      "    plt.ylabel('Categoria predita');\n",
      "    img = 'output_{}.png'.format(str(dt.now()))\n",
      "    print(\"Matriz de Confução : \",img)\n",
      "    plt.savefig(img)\n",
      "\n",
      "def main():\n",
      "    with mlflow.start_run(run_name=\"pipe_clf_linear\"):  \n",
      "      mlflow.log_param(\"full\", \"pipeline_linear_clf\")\n",
      "\n",
      "      corpus_treinamento, corpus_teste, rotulos_treinamento, rotulos_teste = load_data()\n",
      "      sent_clf = train(corpus_treinamento, rotulos_treinamento)\n",
      "      metricas = evalue_metrics(sent_clf,rotulos_teste,corpus_teste)\n",
      "      \n",
      "      for k,v in metricas.items():\n",
      "          try:\n",
      "            for x,y in  v.items():\n",
      "               metrica = {\"{}_{}\".format(k, x):y}\n",
      "               mlflow.log_metric(\"{}_{}\".format(k, x), float(y))      \n",
      "          except AttributeError:  \n",
      "            pass\n",
      "      print(pd.DataFrame(metricas).T)  \n",
      "      mlflow.sklearn.log_model(sent_clf,\"model_linear\")\n",
      "    \n",
      "      \n",
      "        \n",
      "if __name__==\"__main__\":\n",
      "    main()"
     ]
    }
   ],
   "source": [
    "!cat train.py "
   ]
  },
  {
   "cell_type": "code",
   "execution_count": 10,
   "metadata": {},
   "outputs": [],
   "source": [
    "from datetime import datetime as dt "
   ]
  },
  {
   "cell_type": "code",
   "execution_count": 14,
   "metadata": {},
   "outputs": [
    {
     "data": {
      "text/plain": [
       "'2022-04-16_21:20:48'"
      ]
     },
     "execution_count": 14,
     "metadata": {},
     "output_type": "execute_result"
    }
   ],
   "source": [
    "str(dt.now()).split(\".\")[0].replace(\" \",\"_\")"
   ]
  },
  {
   "cell_type": "code",
   "execution_count": null,
   "metadata": {},
   "outputs": [],
   "source": []
  }
 ],
 "metadata": {
  "colab": {
   "collapsed_sections": [],
   "name": "[ONLINE] Classificação de textos - Análise de Sentimentos.ipynb",
   "provenance": []
  },
  "kernelspec": {
   "display_name": "Python 3 (ipykernel)",
   "language": "python",
   "name": "python3"
  },
  "language_info": {
   "codemirror_mode": {
    "name": "ipython",
    "version": 3
   },
   "file_extension": ".py",
   "mimetype": "text/x-python",
   "name": "python",
   "nbconvert_exporter": "python",
   "pygments_lexer": "ipython3",
   "version": "3.8.10"
  }
 },
 "nbformat": 4,
 "nbformat_minor": 4
}
